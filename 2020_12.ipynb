{
 "metadata": {
  "language_info": {
   "codemirror_mode": {
    "name": "ipython",
    "version": 3
   },
   "file_extension": ".py",
   "mimetype": "text/x-python",
   "name": "python",
   "nbconvert_exporter": "python",
   "pygments_lexer": "ipython3",
   "version": "3.8.3-final"
  },
  "orig_nbformat": 2,
  "kernelspec": {
   "name": "python3",
   "display_name": "Python 3",
   "language": "python"
  }
 },
 "nbformat": 4,
 "nbformat_minor": 2,
 "cells": [
  {
   "source": [
    "# 연구실 출퇴근 기록부 및 To Do List  \n",
    "## 2020년 12월"
   ],
   "cell_type": "markdown",
   "metadata": {}
  },
  {
   "source": [
    "### 2020.12.29 Tues.  \n",
    "#### 08:59 IN  \n",
    "#### 19:56 OUT  \n",
    "#### 1.연합프로젝트 월말 결과 보고서 작성\n",
    "#### 2.연합프로젝트 회의록 작성 \n",
    "#### 3.근로장학생 활동"
   ],
   "cell_type": "markdown",
   "metadata": {}
  },
  {
   "source": [
    "### 2020.12.30 Wed.  \n",
    "#### 08:54 IN  \n",
    "#### 20:26 OUT  \n",
    "#### 1.연합프로젝트 월말 결과 보고서 작성\n",
    "#### 2.연합프로젝트 회의록 작성 \n",
    "#### 3.근로장학생 활동"
   ],
   "cell_type": "markdown",
   "metadata": {}
  },
  {
   "source": [
    "### 2020.12.31 Thurs. \n",
    "#### 08:57 IN  \n",
    "#### 18:21 OUT  \n",
    "#### 1.근로장학생 활동"
   ],
   "cell_type": "markdown",
   "metadata": {}
  }
 ]
}