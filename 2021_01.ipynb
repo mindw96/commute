{
 "metadata": {
  "language_info": {
   "codemirror_mode": {
    "name": "ipython",
    "version": 3
   },
   "file_extension": ".py",
   "mimetype": "text/x-python",
   "name": "python",
   "nbconvert_exporter": "python",
   "pygments_lexer": "ipython3",
   "version": 3
  },
  "orig_nbformat": 2
 },
 "nbformat": 4,
 "nbformat_minor": 2,
 "cells": [
  {
   "source": [
    "# 연구실 출퇴근 기록부 및 To Do List  \n",
    "## 2021년 1월"
   ],
   "cell_type": "markdown",
   "metadata": {}
  },
  {
   "source": [
    "### 2021.01.04 Mon.  \n",
    "#### 08:52 IN  \n",
    "#### 18:36 OUT  \n",
    "#### 1.연합프로젝트 예산 사용 내역서 작성\n",
    "#### 2.연합프로젝트 회의록 작성 \n",
    "#### 3.러닝 파이썬 1장"
   ],
   "cell_type": "markdown",
   "metadata": {}
  },
  {
   "source": [
    "### 2021.01.05 Tues.  \n",
    "#### 08:57 IN  \n",
    "#### 18:49 OUT\n",
    "#### 1.Sound Event Detection Model Search  \n",
    "#### 2.러닝 파이썬 1장"
   ],
   "cell_type": "markdown",
   "metadata": {}
  },
  {
   "source": [
    "### 2021.01.06 Wed.  \n",
    "#### 08:51 IN  \n",
    "#### 18:39 OUT\n",
    "#### 1.Sound Event Detection Model Search  \n",
    "#### 2.러닝 파이썬 2장"
   ],
   "cell_type": "markdown",
   "metadata": {}
  },
  {
   "source": [
    "### 2021.01.07 Thurs.  \n",
    "#### 08:58 IN  \n",
    "#### 18:49 OUT\n",
    "#### 1.\"DCASENET: A JOINT PRE-TRAINED DEEP NEURAL NETWORK FOR DETECTING AND CLASSIFYING ACOUSTIC SCENES AND EVENTS\" 논문 분석\n",
    "#### 2.연합프로젝트 서류 제출"
   ],
   "cell_type": "markdown",
   "metadata": {}
  }
 ]
}