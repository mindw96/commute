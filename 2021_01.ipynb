{
 "metadata": {
  "language_info": {
   "codemirror_mode": {
    "name": "ipython",
    "version": 3
   },
   "file_extension": ".py",
   "mimetype": "text/x-python",
   "name": "python",
   "nbconvert_exporter": "python",
   "pygments_lexer": "ipython3",
   "version": 3
  },
  "orig_nbformat": 2
 },
 "nbformat": 4,
 "nbformat_minor": 2,
 "cells": [
  {
   "source": [
    "# 연구실 출퇴근 기록부 및 To Do List  \n",
    "## 2021년 1월"
   ],
   "cell_type": "markdown",
   "metadata": {}
  },
  {
   "source": [
    "### 2021.01.04 Mon.  \n",
    "#### 08:52 IN  \n",
    "#### 18:36 OUT  \n",
    "1.연합프로젝트 예산 사용 내역서 작성  \n",
    "2.연합프로젝트 회의록 작성  \n",
    "3.러닝 파이썬 1장  "
   ],
   "cell_type": "markdown",
   "metadata": {}
  },
  {
   "source": [
    "### 2021.01.05 Tues.  \n",
    "#### 08:57 IN  \n",
    "#### 18:49 OUT\n",
    "1.Sound Event Detection Model Search  \n",
    "2.러닝 파이썬 1장  "
   ],
   "cell_type": "markdown",
   "metadata": {}
  },
  {
   "source": [
    "### 2021.01.06 Wed.  \n",
    "#### 08:51 IN  \n",
    "#### 18:39 OUT\n",
    "1.Sound Event Detection Model Search   \n",
    "2.러닝 파이썬 2장  "
   ],
   "cell_type": "markdown",
   "metadata": {}
  },
  {
   "source": [
    "### 2021.01.07 Thurs.  \n",
    "#### 08:58 IN  \n",
    "#### 18:49 OUT\n",
    "1.\"DCASENET: A JOINT PRE-TRAINED DEEP NEURAL NETWORK FOR DETECTING AND CLASSIFYING ACOUSTIC SCENES AND EVENTS\" 논문 분석  \n",
    "2.연합프로젝트 서류 제출  "
   ],
   "cell_type": "markdown",
   "metadata": {}
  },
  {
   "source": [
    "### 2021.01.08 Fri.  \n",
    "#### 08:58 IN  \n",
    "#### 19:29 OUT\n",
    "1.Cough Detection 교수님 미팅   \n",
    "2.DCASE2020 논문 서치  "
   ],
   "cell_type": "markdown",
   "metadata": {}
  },
  {
   "source": [
    "### 2021.01.11 Mon.  \n",
    "#### 08:59 IN  \n",
    "#### 20:19 OUT\n",
    "1.\"EVENT-INDEPENDENT NETWORK FOR POLYPHONIC SOUND EVENT LOCALIZATION AND DETECTION\" 논문 분석  \n",
    "2.CP JKU Submission for DCASE 2020 코드 분석 (https://github.com/kkoutini/cpjku_dcase20)  \n",
    "3.인공지능을 위한 수학 1-1 ~ 1-12  "
   ],
   "cell_type": "markdown",
   "metadata": {}
  },
  {
   "source": [
    "### 2021.01.12 Tues.  \n",
    "#### 09:12 IN  \n",
    "#### 20:49 OUT\n",
    "1.\"An Improved Event-Independent Network for Polyphonic Sound Event Localization and Detection\" 코드 구현  \n",
    "2.\"CP JKU Submission for DCASE 2020\" 코드 구현  "
   ],
   "cell_type": "markdown",
   "metadata": {}
  },
  {
   "source": [
    "### 2021.01.13 Wed.  \n",
    "#### 08:57 IN  \n",
    "#### 18:19 OUT\n",
    "1.\"DCASE NET\" 코드 구현  \n",
    "2.\"SELD NET\" 코드 구현  \n",
    "3.\"ESC-50\" 코드 구현  \n",
    "4.교내 학습공동체 스터디그룹 1회차  "
   ],
   "cell_type": "markdown",
   "metadata": {}
  },
  {
   "source": [
    "### 2021.01.14 Thurs.  \n",
    "#### 08:55 IN  \n",
    "#### 18:24 OUT\n",
    "1.audio to Melspectogram 변환 코드 작성  \n",
    "2.\"TUT Sound Events 2018 - Ambisonic, Anechoic and Synthetic Impulse Response Dataset\" 다운로드 및 수정  \n",
    "3.교내 학습공동체 스터디그룹 2회차  "
   ],
   "cell_type": "markdown",
   "metadata": {}
  },
  {
   "source": [
    "### 2021.01.15 Fri.  \n",
    "#### 08:53 IN  \n",
    "#### 19:57 OUT\n",
    "1.Audio to Mel-Spectrogram 변환  \n",
    "2.Mel-Spectrogram 분류 모델 생성 및 학습  \n",
    "3.인공지능을 위한 수학 2-1 ~ 2-3  "
   ],
   "cell_type": "markdown",
   "metadata": {}
  },
  {
   "source": [
    "### 2021.01.18 Mon.  \n",
    "#### 08:13 IN  \n",
    "#### 18:47 OUT\n",
    "1.Vgg16 base Mel-Spectrogram Classification Model 구성 및 학습  \n",
    "2.한컴 AI 학습 심화과정 1일차 수강  \n",
    "3.공동학습체 스터디그룹 3회차  "
   ],
   "cell_type": "markdown",
   "metadata": {}
  },
  {
   "source": [
    "### 2021.01.19 Tues.  \n",
    "#### 08:58 IN  \n",
    "#### 19:52 OUT\n",
    "1.랩 세미나  \n",
    "2.한컴 AI 학습 심화과정 2일차 수강   \n",
    "3.인공지능을 위한 수학 2-4 ~ 3-6  "
   ],
   "cell_type": "markdown",
   "metadata": {}
  },
  {
   "source": [
    "### 2021.01.20 Wed.  \n",
    "#### 08:03 IN  \n",
    "#### 18:09 OUT\n",
    "1.EfficientNet b0 Pytorch로 구현 및 학습  \n",
    "2.한컴 AI 학습 심화과정 3일차 수강  \n",
    "3.학습공동체 스터디그룹 4회차  \n",
    "\n",
    "---"
   ],
   "cell_type": "markdown",
   "metadata": {}
  },
  {
   "source": [
    "### 2021.01.21 Thurs.  \n",
    "#### 08:10 IN  \n",
    "#### 19:49 OUT\n",
    "1.Custom CNN Classification 모델 구성 및 학습  \n",
    "2.한컴 AI 학습 심화과정 4일차 수강    \n",
    "\n",
    "---"
   ],
   "cell_type": "markdown",
   "metadata": {}
  },
  {
   "source": [
    "### 2021.01.22 Fri.  \n",
    "#### 10:03 IN\n",
    "#### 20:09 OUT\n",
    "1.EfficientNet b0 pretrained 모델로 학습  \n",
    "2.한컴 AI 학습 심화과정 5일차 수강  \n",
    "3.인공지능을 위한 수학 3-7 ~ 4-2  \n",
    "\n",
    "---"
   ],
   "cell_type": "markdown",
   "metadata": {}
  },
  {
   "source": [
    "### 2021.01.25 Mon.  \n",
    "#### 8:53 IN\n",
    "#### 18:29 OUT\n",
    "1.Raspberry Pi 4 설정  \n",
    "2.한컴 AI 학습 심화과정 6일차 수강    \n",
    "3.학습공동체 스터디그룹 5회차   \n",
    "\n",
    "---"
   ],
   "cell_type": "markdown",
   "metadata": {}
  },
  {
   "source": [
    "### 2021.01.26 Tues.  \n",
    "#### 08:44 IN\n",
    "#### 20:02 OUT\n",
    "1.EfficientNet b0 pretrained 모델 Raspberry Pi 4에 탑재  \n",
    "2.한컴 AI 학습 심화과정 7일차 수강  \n",
    "3.인공지능을 위한 수학 4.3 ~ 4.6  \n",
    "\n",
    "---"
   ],
   "cell_type": "markdown",
   "metadata": {}
  },
  {
   "source": [
    "### 2021.01.27 Wed.  \n",
    "#### 08:58 IN\n",
    "#### 18:03 OUT\n",
    "1.EfficientNet b0 pretrained 모델 Raspberry Pi 4 구동 성공  \n",
    "2.한컴 AI 학습 심화과정 8일차 수강  \n",
    "3.학습공동체 스터디그룹 6회차 \n",
    "\n",
    "---"
   ],
   "cell_type": "markdown",
   "metadata": {}
  },
  {
   "source": [
    "### 2021.01.28 Thurs.  \n",
    "#### 08:51 IN\n",
    "#### 18:23 OUT\n",
    "1.교수님 미팅 \n",
    "2.한컴 AI 학습 심화과정 9일차 수강  \n",
    "\n",
    "---"
   ],
   "cell_type": "markdown",
   "metadata": {}
  }
 ]
}