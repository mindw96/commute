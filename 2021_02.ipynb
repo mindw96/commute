{
 "metadata": {
  "language_info": {
   "codemirror_mode": {
    "name": "ipython",
    "version": 3
   },
   "file_extension": ".py",
   "mimetype": "text/x-python",
   "name": "python",
   "nbconvert_exporter": "python",
   "pygments_lexer": "ipython3",
   "version": 3
  },
  "orig_nbformat": 2
 },
 "nbformat": 4,
 "nbformat_minor": 2,
 "cells": [
  {
   "source": [
    "# 연구실 출퇴근 기록부 및 To Do List  \n",
    "## 2021년 2월"
   ],
   "cell_type": "markdown",
   "metadata": {}
  },
  {
   "source": [
    "2021.02.08 Mon"
   ],
   "cell_type": "markdown",
   "metadata": {}
  },
  {
   "source": [
    "2021.02.09 Thes."
   ],
   "cell_type": "markdown",
   "metadata": {}
  },
  {
   "source": [
    "2021.02.10 Wed."
   ],
   "cell_type": "markdown",
   "metadata": {}
  },
  {
   "source": [
    "2021.02.11 Thurs."
   ],
   "cell_type": "markdown",
   "metadata": {}
  },
  {
   "source": [
    "### 2021.02.08 Mon.  \n",
    "#### 07:52 IN  \n",
    "#### 22:06 OUT  \n",
    "1. 연합 프로젝트 최종 발표 자료 만들기\n",
    "2. 연합 프로젝트 최종 발표 "
   ],
   "cell_type": "markdown",
   "metadata": {}
  },
  {
   "source": [
    "### 2021.02.09 Tues.  \n",
    "#### 09:22 IN  \n",
    "#### 18:36 OUT  \n",
    "1. 연합 프로젝트 최종 보고서 작성\n",
    "2. 백준 단계별 풀이 (재귀)"
   ],
   "cell_type": "markdown",
   "metadata": {}
  },
  {
   "source": [
    "2021.02.10 Wed."
   ],
   "cell_type": "markdown",
   "metadata": {}
  },
  {
   "source": [
    "2021.02.15 Mon."
   ],
   "cell_type": "markdown",
   "metadata": {}
  },
  {
   "source": [
    "2021.02.16 Tues."
   ],
   "cell_type": "markdown",
   "metadata": {}
  },
  {
   "source": [
    "2021.02.17 Wed."
   ],
   "cell_type": "markdown",
   "metadata": {}
  },
  {
   "source": [
    "2021.02.18 Thurs.\n"
   ],
   "cell_type": "markdown",
   "metadata": {}
  }
 ]
}